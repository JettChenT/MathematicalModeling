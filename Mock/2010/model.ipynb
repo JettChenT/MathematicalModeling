{
 "cells": [
  {
   "cell_type": "code",
   "execution_count": 1,
   "metadata": {},
   "outputs": [],
   "source": [
    "import pandas as pd\n",
    "import numpy as np\n",
    "import seaborn as sns"
   ]
  },
  {
   "cell_type": "code",
   "execution_count": 2,
   "metadata": {},
   "outputs": [],
   "source": [
    "data = pd.read_csv('./data/processed/main.csv')"
   ]
  },
  {
   "cell_type": "code",
   "execution_count": 3,
   "metadata": {},
   "outputs": [
    {
     "data": {
      "text/html": [
       "<div>\n",
       "<style scoped>\n",
       "    .dataframe tbody tr th:only-of-type {\n",
       "        vertical-align: middle;\n",
       "    }\n",
       "\n",
       "    .dataframe tbody tr th {\n",
       "        vertical-align: top;\n",
       "    }\n",
       "\n",
       "    .dataframe thead th {\n",
       "        text-align: right;\n",
       "    }\n",
       "</style>\n",
       "<table border=\"1\" class=\"dataframe\">\n",
       "  <thead>\n",
       "    <tr style=\"text-align: right;\">\n",
       "      <th></th>\n",
       "      <th>Zipcode</th>\n",
       "      <th>public_transport</th>\n",
       "      <th>shop</th>\n",
       "      <th>schools</th>\n",
       "      <th>bike_rental</th>\n",
       "      <th>parking</th>\n",
       "      <th>population_density</th>\n",
       "      <th>city</th>\n",
       "    </tr>\n",
       "  </thead>\n",
       "  <tbody>\n",
       "    <tr>\n",
       "      <th>0</th>\n",
       "      <td>50309</td>\n",
       "      <td>196</td>\n",
       "      <td>100</td>\n",
       "      <td>0</td>\n",
       "      <td>24</td>\n",
       "      <td>2</td>\n",
       "      <td>1914.0</td>\n",
       "      <td>Des Moines</td>\n",
       "    </tr>\n",
       "    <tr>\n",
       "      <th>1</th>\n",
       "      <td>50310</td>\n",
       "      <td>6</td>\n",
       "      <td>86</td>\n",
       "      <td>0</td>\n",
       "      <td>0</td>\n",
       "      <td>0</td>\n",
       "      <td>3752.0</td>\n",
       "      <td>Des Moines</td>\n",
       "    </tr>\n",
       "    <tr>\n",
       "      <th>2</th>\n",
       "      <td>50311</td>\n",
       "      <td>46</td>\n",
       "      <td>34</td>\n",
       "      <td>0</td>\n",
       "      <td>8</td>\n",
       "      <td>0</td>\n",
       "      <td>6011.0</td>\n",
       "      <td>Des Moines</td>\n",
       "    </tr>\n",
       "    <tr>\n",
       "      <th>3</th>\n",
       "      <td>50312</td>\n",
       "      <td>52</td>\n",
       "      <td>44</td>\n",
       "      <td>0</td>\n",
       "      <td>2</td>\n",
       "      <td>2</td>\n",
       "      <td>2701.0</td>\n",
       "      <td>Des Moines</td>\n",
       "    </tr>\n",
       "    <tr>\n",
       "      <th>4</th>\n",
       "      <td>50313</td>\n",
       "      <td>46</td>\n",
       "      <td>10</td>\n",
       "      <td>0</td>\n",
       "      <td>0</td>\n",
       "      <td>0</td>\n",
       "      <td>963.0</td>\n",
       "      <td>Des Moines</td>\n",
       "    </tr>\n",
       "  </tbody>\n",
       "</table>\n",
       "</div>"
      ],
      "text/plain": [
       "   Zipcode  public_transport  shop  schools  bike_rental  parking  \\\n",
       "0    50309               196   100        0           24        2   \n",
       "1    50310                 6    86        0            0        0   \n",
       "2    50311                46    34        0            8        0   \n",
       "3    50312                52    44        0            2        2   \n",
       "4    50313                46    10        0            0        0   \n",
       "\n",
       "   population_density        city  \n",
       "0              1914.0  Des Moines  \n",
       "1              3752.0  Des Moines  \n",
       "2              6011.0  Des Moines  \n",
       "3              2701.0  Des Moines  \n",
       "4               963.0  Des Moines  "
      ]
     },
     "execution_count": 3,
     "metadata": {},
     "output_type": "execute_result"
    }
   ],
   "source": [
    "data.head()"
   ]
  },
  {
   "cell_type": "code",
   "execution_count": 4,
   "metadata": {},
   "outputs": [],
   "source": [
    "numerical_cat = ['bike_rental', 'parking', 'public_transport', 'schools', 'shop', 'population_density']"
   ]
  },
  {
   "cell_type": "markdown",
   "metadata": {},
   "source": [
    "# Data normalization"
   ]
  },
  {
   "cell_type": "code",
   "execution_count": 5,
   "metadata": {},
   "outputs": [],
   "source": [
    "df_norm = data.copy()"
   ]
  },
  {
   "cell_type": "code",
   "execution_count": 11,
   "metadata": {},
   "outputs": [
    {
     "data": {
      "text/html": [
       "<div>\n",
       "<style scoped>\n",
       "    .dataframe tbody tr th:only-of-type {\n",
       "        vertical-align: middle;\n",
       "    }\n",
       "\n",
       "    .dataframe tbody tr th {\n",
       "        vertical-align: top;\n",
       "    }\n",
       "\n",
       "    .dataframe thead th {\n",
       "        text-align: right;\n",
       "    }\n",
       "</style>\n",
       "<table border=\"1\" class=\"dataframe\">\n",
       "  <thead>\n",
       "    <tr style=\"text-align: right;\">\n",
       "      <th></th>\n",
       "      <th>Zipcode</th>\n",
       "      <th>public_transport</th>\n",
       "      <th>shop</th>\n",
       "      <th>schools</th>\n",
       "      <th>bike_rental</th>\n",
       "      <th>parking</th>\n",
       "      <th>population_density</th>\n",
       "      <th>city</th>\n",
       "    </tr>\n",
       "  </thead>\n",
       "  <tbody>\n",
       "    <tr>\n",
       "      <th>0</th>\n",
       "      <td>50309</td>\n",
       "      <td>0.117718</td>\n",
       "      <td>0.758801</td>\n",
       "      <td>0.0</td>\n",
       "      <td>0.352941</td>\n",
       "      <td>0.045455</td>\n",
       "      <td>0.040668</td>\n",
       "      <td>Des Moines</td>\n",
       "    </tr>\n",
       "    <tr>\n",
       "      <th>1</th>\n",
       "      <td>50310</td>\n",
       "      <td>0.002427</td>\n",
       "      <td>0.738383</td>\n",
       "      <td>0.0</td>\n",
       "      <td>0.000000</td>\n",
       "      <td>0.000000</td>\n",
       "      <td>0.093160</td>\n",
       "      <td>Des Moines</td>\n",
       "    </tr>\n",
       "    <tr>\n",
       "      <th>2</th>\n",
       "      <td>50311</td>\n",
       "      <td>0.026699</td>\n",
       "      <td>0.612757</td>\n",
       "      <td>0.0</td>\n",
       "      <td>0.117647</td>\n",
       "      <td>0.000000</td>\n",
       "      <td>0.157675</td>\n",
       "      <td>Des Moines</td>\n",
       "    </tr>\n",
       "    <tr>\n",
       "      <th>3</th>\n",
       "      <td>50312</td>\n",
       "      <td>0.030340</td>\n",
       "      <td>0.647660</td>\n",
       "      <td>0.0</td>\n",
       "      <td>0.029412</td>\n",
       "      <td>0.045455</td>\n",
       "      <td>0.063144</td>\n",
       "      <td>Des Moines</td>\n",
       "    </tr>\n",
       "    <tr>\n",
       "      <th>4</th>\n",
       "      <td>50313</td>\n",
       "      <td>0.026699</td>\n",
       "      <td>0.447088</td>\n",
       "      <td>0.0</td>\n",
       "      <td>0.000000</td>\n",
       "      <td>0.000000</td>\n",
       "      <td>0.013508</td>\n",
       "      <td>Des Moines</td>\n",
       "    </tr>\n",
       "  </tbody>\n",
       "</table>\n",
       "</div>"
      ],
      "text/plain": [
       "   Zipcode  public_transport      shop  schools  bike_rental   parking  \\\n",
       "0    50309          0.117718  0.758801      0.0     0.352941  0.045455   \n",
       "1    50310          0.002427  0.738383      0.0     0.000000  0.000000   \n",
       "2    50311          0.026699  0.612757      0.0     0.117647  0.000000   \n",
       "3    50312          0.030340  0.647660      0.0     0.029412  0.045455   \n",
       "4    50313          0.026699  0.447088      0.0     0.000000  0.000000   \n",
       "\n",
       "   population_density        city  \n",
       "0            0.040668  Des Moines  \n",
       "1            0.093160  Des Moines  \n",
       "2            0.157675  Des Moines  \n",
       "3            0.063144  Des Moines  \n",
       "4            0.013508  Des Moines  "
      ]
     },
     "execution_count": 11,
     "metadata": {},
     "output_type": "execute_result"
    }
   ],
   "source": [
    "df_norm.head()"
   ]
  },
  {
   "cell_type": "code",
   "execution_count": 7,
   "metadata": {},
   "outputs": [
    {
     "name": "stderr",
     "output_type": "stream",
     "text": [
      "/Users/jettchen/anaconda3/envs/himcm/lib/python3.8/site-packages/pandas/core/arraylike.py:397: RuntimeWarning: divide by zero encountered in log\n",
      "  result = getattr(ufunc, method)(*inputs, **kwargs)\n"
     ]
    }
   ],
   "source": [
    "# Logarithmic normalization of the 'shop' row\n",
    "df_norm['shop'] = np.clip(np.log(df_norm['shop'],), -1, float('inf'))"
   ]
  },
  {
   "cell_type": "code",
   "execution_count": 8,
   "metadata": {},
   "outputs": [
    {
     "data": {
      "text/plain": [
       "<seaborn.axisgrid.FacetGrid at 0x7ff768dc4940>"
      ]
     },
     "execution_count": 8,
     "metadata": {},
     "output_type": "execute_result"
    },
    {
     "data": {
      "image/png": "[encoded data removed]",
      "text/plain": [
       "<Figure size 360x360 with 1 Axes>"
      ]
     },
     "metadata": {
      "needs_background": "light"
     },
     "output_type": "display_data"
    }
   ],
   "source": [
    "sns.displot(df_norm, x='shop')"
   ]
  },
  {
   "cell_type": "code",
   "execution_count": 9,
   "metadata": {},
   "outputs": [
    {
     "name": "stderr",
     "output_type": "stream",
     "text": [
      "/var/folders/8f/hqry7rvj7yb88tw1zthzjlzh0000gn/T/ipykernel_36592/3047956262.py:4: SettingWithCopyWarning: \n",
      "A value is trying to be set on a copy of a slice from a DataFrame.\n",
      "Try using .loc[row_indexer,col_indexer] = value instead\n",
      "\n",
      "See the caveats in the documentation: https://pandas.pydata.org/pandas-docs/stable/user_guide/indexing.html#returning-a-view-versus-a-copy\n",
      "  df_train[cat] = ((df_train[cat] - df_train[cat].min()) / (df_train[cat].max() - df_train[cat].min()))\n"
     ]
    }
   ],
   "source": [
    "df_train = df_norm[df_norm['bike_rental']>0]\n",
    "for cat in numerical_cat:\n",
    "    df_norm[cat] = (df_norm[cat] - df_norm[cat].min()) / (df_norm[cat].max() - df_norm[cat].min())\n",
    "    df_train[cat] = ((df_train[cat] - df_train[cat].min()) / (df_train[cat].max() - df_train[cat].min()))"
   ]
  },
  {
   "cell_type": "code",
   "execution_count": 10,
   "metadata": {},
   "outputs": [
    {
     "data": {
      "text/plain": [
       "<seaborn.axisgrid.PairGrid at 0x7ff78ae7f310>"
      ]
     },
     "execution_count": 10,
     "metadata": {},
     "output_type": "execute_result"
    },
    {
     "data": {
      "image/png": "[encoded data removed]",
      "text/plain": [
       "<Figure size 1250x1250 with 30 Axes>"
      ]
     },
     "metadata": {},
     "output_type": "display_data"
    }
   ],
   "source": [
    "g = sns.PairGrid(df_train[['bike_rental', 'population_density', 'shop', 'schools', 'public_transport']])\n",
    "g.map_upper(sns.histplot)\n",
    "g.map_lower(sns.kdeplot, fill=True)\n",
    "g.map_diag(sns.histplot, kde=True)"
   ]
  },
  {
   "cell_type": "markdown",
   "metadata": {},
   "source": [
    "# Get the weights of the model"
   ]
  },
  {
   "cell_type": "code",
   "execution_count": null,
   "metadata": {},
   "outputs": [],
   "source": [
    "correlation = data.corr()\n",
    "correlation"
   ]
  },
  {
   "cell_type": "code",
   "execution_count": 12,
   "metadata": {},
   "outputs": [
    {
     "data": {
      "text/html": [
       "<div>\n",
       "<style scoped>\n",
       "    .dataframe tbody tr th:only-of-type {\n",
       "        vertical-align: middle;\n",
       "    }\n",
       "\n",
       "    .dataframe tbody tr th {\n",
       "        vertical-align: top;\n",
       "    }\n",
       "\n",
       "    .dataframe thead th {\n",
       "        text-align: right;\n",
       "    }\n",
       "</style>\n",
       "<table border=\"1\" class=\"dataframe\">\n",
       "  <thead>\n",
       "    <tr style=\"text-align: right;\">\n",
       "      <th></th>\n",
       "      <th>Zipcode</th>\n",
       "      <th>public_transport</th>\n",
       "      <th>shop</th>\n",
       "      <th>schools</th>\n",
       "      <th>bike_rental</th>\n",
       "      <th>parking</th>\n",
       "      <th>population_density</th>\n",
       "    </tr>\n",
       "  </thead>\n",
       "  <tbody>\n",
       "    <tr>\n",
       "      <th>Zipcode</th>\n",
       "      <td>1.000000</td>\n",
       "      <td>-0.185455</td>\n",
       "      <td>0.272089</td>\n",
       "      <td>-0.012505</td>\n",
       "      <td>-0.256558</td>\n",
       "      <td>0.359708</td>\n",
       "      <td>-0.130633</td>\n",
       "    </tr>\n",
       "    <tr>\n",
       "      <th>public_transport</th>\n",
       "      <td>-0.185455</td>\n",
       "      <td>1.000000</td>\n",
       "      <td>0.251078</td>\n",
       "      <td>0.714064</td>\n",
       "      <td>0.665371</td>\n",
       "      <td>-0.157267</td>\n",
       "      <td>0.002092</td>\n",
       "    </tr>\n",
       "    <tr>\n",
       "      <th>shop</th>\n",
       "      <td>0.272089</td>\n",
       "      <td>0.251078</td>\n",
       "      <td>1.000000</td>\n",
       "      <td>0.215484</td>\n",
       "      <td>0.365675</td>\n",
       "      <td>0.210633</td>\n",
       "      <td>0.343373</td>\n",
       "    </tr>\n",
       "    <tr>\n",
       "      <th>schools</th>\n",
       "      <td>-0.012505</td>\n",
       "      <td>0.714064</td>\n",
       "      <td>0.215484</td>\n",
       "      <td>1.000000</td>\n",
       "      <td>0.509166</td>\n",
       "      <td>-0.103132</td>\n",
       "      <td>-0.010867</td>\n",
       "    </tr>\n",
       "    <tr>\n",
       "      <th>bike_rental</th>\n",
       "      <td>-0.256558</td>\n",
       "      <td>0.665371</td>\n",
       "      <td>0.365675</td>\n",
       "      <td>0.509166</td>\n",
       "      <td>1.000000</td>\n",
       "      <td>-0.091594</td>\n",
       "      <td>0.403652</td>\n",
       "    </tr>\n",
       "    <tr>\n",
       "      <th>parking</th>\n",
       "      <td>0.359708</td>\n",
       "      <td>-0.157267</td>\n",
       "      <td>0.210633</td>\n",
       "      <td>-0.103132</td>\n",
       "      <td>-0.091594</td>\n",
       "      <td>1.000000</td>\n",
       "      <td>0.061968</td>\n",
       "    </tr>\n",
       "    <tr>\n",
       "      <th>population_density</th>\n",
       "      <td>-0.130633</td>\n",
       "      <td>0.002092</td>\n",
       "      <td>0.343373</td>\n",
       "      <td>-0.010867</td>\n",
       "      <td>0.403652</td>\n",
       "      <td>0.061968</td>\n",
       "      <td>1.000000</td>\n",
       "    </tr>\n",
       "  </tbody>\n",
       "</table>\n",
       "</div>"
      ],
      "text/plain": [
       "                     Zipcode  public_transport      shop   schools  \\\n",
       "Zipcode             1.000000         -0.185455  0.272089 -0.012505   \n",
       "public_transport   -0.185455          1.000000  0.251078  0.714064   \n",
       "shop                0.272089          0.251078  1.000000  0.215484   \n",
       "schools            -0.012505          0.714064  0.215484  1.000000   \n",
       "bike_rental        -0.256558          0.665371  0.365675  0.509166   \n",
       "parking             0.359708         -0.157267  0.210633 -0.103132   \n",
       "population_density -0.130633          0.002092  0.343373 -0.010867   \n",
       "\n",
       "                    bike_rental   parking  population_density  \n",
       "Zipcode               -0.256558  0.359708           -0.130633  \n",
       "public_transport       0.665371 -0.157267            0.002092  \n",
       "shop                   0.365675  0.210633            0.343373  \n",
       "schools                0.509166 -0.103132           -0.010867  \n",
       "bike_rental            1.000000 -0.091594            0.403652  \n",
       "parking               -0.091594  1.000000            0.061968  \n",
       "population_density     0.403652  0.061968            1.000000  "
      ]
     },
     "execution_count": 12,
     "metadata": {},
     "output_type": "execute_result"
    }
   ],
   "source": [
    "correlation = df_train.corr()\n",
    "correlation"
   ]
  },
  {
   "cell_type": "code",
   "execution_count": 13,
   "metadata": {},
   "outputs": [
    {
     "data": {
      "text/plain": [
       "parking              -0.091594\n",
       "public_transport      0.665371\n",
       "schools               0.509166\n",
       "shop                  0.365675\n",
       "population_density    0.403652\n",
       "Name: bike_rental, dtype: float64"
      ]
     },
     "execution_count": 13,
     "metadata": {},
     "output_type": "execute_result"
    }
   ],
   "source": [
    "weights = correlation['bike_rental'][['parking', 'public_transport', 'schools', 'shop', 'population_density']]\n",
    "weights"
   ]
  },
  {
   "cell_type": "code",
   "execution_count": 14,
   "metadata": {},
   "outputs": [],
   "source": [
    "weights_np = weights.to_numpy()\n",
    "pcols = ['parking', 'public_transport', 'schools', 'shop', 'population_density']\n",
    "df_norm['score'] = df_norm.apply(lambda x: np.dot(weights_np, x[pcols].to_numpy()), axis=1)"
   ]
  },
  {
   "cell_type": "code",
   "execution_count": 15,
   "metadata": {},
   "outputs": [
    {
     "data": {
      "text/plain": [
       "<seaborn.axisgrid.FacetGrid at 0x7ff79a150f40>"
      ]
     },
     "execution_count": 15,
     "metadata": {},
     "output_type": "execute_result"
    },
    {
     "data": {
      "image/png": "[encoded data removed]",
      "text/plain": [
       "<Figure size 500x500 with 1 Axes>"
      ]
     },
     "metadata": {},
     "output_type": "display_data"
    }
   ],
   "source": [
    "df_norm['score'] = (df_norm['score'] - np.min(df_norm['score'])) / (np.max(df_norm['score']) - np.min(df_norm['score']))\n",
    "sns.displot(df_norm, x='score', kde=True)"
   ]
  },
  {
   "cell_type": "code",
   "execution_count": 16,
   "metadata": {},
   "outputs": [
    {
     "data": {
      "text/plain": [
       "<seaborn.axisgrid.FacetGrid at 0x7ff78aec2be0>"
      ]
     },
     "execution_count": 16,
     "metadata": {},
     "output_type": "execute_result"
    },
    {
     "data": {
      "image/png": "[encoded data removed]",
      "text/plain": [
       "<Figure size 500x500 with 1 Axes>"
      ]
     },
     "metadata": {},
     "output_type": "display_data"
    }
   ],
   "source": [
    "sns.displot(df_norm[df_norm['bike_rental']>0], x='score', kde=True)"
   ]
  },
  {
   "cell_type": "code",
   "execution_count": 17,
   "metadata": {},
   "outputs": [
    {
     "data": {
      "text/plain": [
       "<AxesSubplot:xlabel='score', ylabel='bike_rental'>"
      ]
     },
     "execution_count": 17,
     "metadata": {},
     "output_type": "execute_result"
    },
    {
     "data": {
      "image/png": "[encoded data removed]",
      "text/plain": [
       "<Figure size 640x480 with 1 Axes>"
      ]
     },
     "metadata": {},
     "output_type": "display_data"
    }
   ],
   "source": [
    "sns.scatterplot(x='score', y='bike_rental', data=df_norm)"
   ]
  },
  {
   "cell_type": "code",
   "execution_count": 18,
   "metadata": {},
   "outputs": [],
   "source": [
    "df_norm['relative_score'] = df_norm['score'] - df_norm['bike_rental']\n",
    "df_norm['relative_score'] = (df_norm['relative_score']- df_norm['relative_score'].min()) / (df_norm['relative_score'].max() - df_norm['relative_score'].min())"
   ]
  },
  {
   "cell_type": "code",
   "execution_count": 19,
   "metadata": {},
   "outputs": [
    {
     "data": {
      "text/plain": [
       "<seaborn.axisgrid.FacetGrid at 0x7ff78b02d340>"
      ]
     },
     "execution_count": 19,
     "metadata": {},
     "output_type": "execute_result"
    },
    {
     "data": {
      "image/png": "[encoded data removed]",
      "text/plain": [
       "<Figure size 500x500 with 1 Axes>"
      ]
     },
     "metadata": {},
     "output_type": "display_data"
    }
   ],
   "source": [
    "sns.displot(df_norm, x='relative_score', kde=True)"
   ]
  },
  {
   "cell_type": "markdown",
   "metadata": {},
   "source": [
    "# Results"
   ]
  },
  {
   "cell_type": "code",
   "execution_count": 20,
   "metadata": {},
   "outputs": [],
   "source": [
    "cities = ['Chicago', 'Des Moines', 'Denver']\n",
    "res = dict()\n",
    "for city in cities:\n",
    "    res[city] = df_norm[df_norm['city']==city].sort_values(by=['relative_score'], ascending=False)[['Zipcode', 'relative_score']]\n",
    "    res[city].to_csv(f'./data/results/{city}_relative_rank.csv', index=False)"
   ]
  },
  {
   "cell_type": "code",
   "execution_count": 21,
   "metadata": {},
   "outputs": [
    {
     "data": {
      "text/html": [
       "<div>\n",
       "<style scoped>\n",
       "    .dataframe tbody tr th:only-of-type {\n",
       "        vertical-align: middle;\n",
       "    }\n",
       "\n",
       "    .dataframe tbody tr th {\n",
       "        vertical-align: top;\n",
       "    }\n",
       "\n",
       "    .dataframe thead th {\n",
       "        text-align: right;\n",
       "    }\n",
       "</style>\n",
       "<table border=\"1\" class=\"dataframe\">\n",
       "  <thead>\n",
       "    <tr style=\"text-align: right;\">\n",
       "      <th></th>\n",
       "      <th>Zipcode</th>\n",
       "      <th>public_transport</th>\n",
       "      <th>shop</th>\n",
       "      <th>schools</th>\n",
       "      <th>bike_rental</th>\n",
       "      <th>parking</th>\n",
       "      <th>population_density</th>\n",
       "      <th>city</th>\n",
       "      <th>score</th>\n",
       "      <th>relative_score</th>\n",
       "    </tr>\n",
       "  </thead>\n",
       "  <tbody>\n",
       "    <tr>\n",
       "      <th>0</th>\n",
       "      <td>50309</td>\n",
       "      <td>0.117718</td>\n",
       "      <td>0.758801</td>\n",
       "      <td>0.0</td>\n",
       "      <td>0.352941</td>\n",
       "      <td>0.045455</td>\n",
       "      <td>0.040668</td>\n",
       "      <td>Des Moines</td>\n",
       "      <td>0.249382</td>\n",
       "      <td>0.366391</td>\n",
       "    </tr>\n",
       "    <tr>\n",
       "      <th>1</th>\n",
       "      <td>50310</td>\n",
       "      <td>0.002427</td>\n",
       "      <td>0.738383</td>\n",
       "      <td>0.0</td>\n",
       "      <td>0.000000</td>\n",
       "      <td>0.000000</td>\n",
       "      <td>0.093160</td>\n",
       "      <td>Des Moines</td>\n",
       "      <td>0.207455</td>\n",
       "      <td>0.629437</td>\n",
       "    </tr>\n",
       "    <tr>\n",
       "      <th>2</th>\n",
       "      <td>50311</td>\n",
       "      <td>0.026699</td>\n",
       "      <td>0.612757</td>\n",
       "      <td>0.0</td>\n",
       "      <td>0.117647</td>\n",
       "      <td>0.000000</td>\n",
       "      <td>0.157675</td>\n",
       "      <td>Des Moines</td>\n",
       "      <td>0.204785</td>\n",
       "      <td>0.527676</td>\n",
       "    </tr>\n",
       "    <tr>\n",
       "      <th>3</th>\n",
       "      <td>50312</td>\n",
       "      <td>0.030340</td>\n",
       "      <td>0.647660</td>\n",
       "      <td>0.0</td>\n",
       "      <td>0.029412</td>\n",
       "      <td>0.045455</td>\n",
       "      <td>0.063144</td>\n",
       "      <td>Des Moines</td>\n",
       "      <td>0.185444</td>\n",
       "      <td>0.585946</td>\n",
       "    </tr>\n",
       "    <tr>\n",
       "      <th>4</th>\n",
       "      <td>50313</td>\n",
       "      <td>0.026699</td>\n",
       "      <td>0.447088</td>\n",
       "      <td>0.0</td>\n",
       "      <td>0.000000</td>\n",
       "      <td>0.000000</td>\n",
       "      <td>0.013508</td>\n",
       "      <td>Des Moines</td>\n",
       "      <td>0.120130</td>\n",
       "      <td>0.555581</td>\n",
       "    </tr>\n",
       "  </tbody>\n",
       "</table>\n",
       "</div>"
      ],
      "text/plain": [
       "   Zipcode  public_transport      shop  schools  bike_rental   parking  \\\n",
       "0    50309          0.117718  0.758801      0.0     0.352941  0.045455   \n",
       "1    50310          0.002427  0.738383      0.0     0.000000  0.000000   \n",
       "2    50311          0.026699  0.612757      0.0     0.117647  0.000000   \n",
       "3    50312          0.030340  0.647660      0.0     0.029412  0.045455   \n",
       "4    50313          0.026699  0.447088      0.0     0.000000  0.000000   \n",
       "\n",
       "   population_density        city     score  relative_score  \n",
       "0            0.040668  Des Moines  0.249382        0.366391  \n",
       "1            0.093160  Des Moines  0.207455        0.629437  \n",
       "2            0.157675  Des Moines  0.204785        0.527676  \n",
       "3            0.063144  Des Moines  0.185444        0.585946  \n",
       "4            0.013508  Des Moines  0.120130        0.555581  "
      ]
     },
     "execution_count": 21,
     "metadata": {},
     "output_type": "execute_result"
    }
   ],
   "source": [
    "df_norm.head()"
   ]
  },
  {
   "cell_type": "markdown",
   "metadata": {},
   "source": [
    "## Zip Code Ranking based on relative score for each of the cities"
   ]
  },
  {
   "cell_type": "code",
   "execution_count": 22,
   "metadata": {},
   "outputs": [
    {
     "data": {
      "text/html": [
       "<div>\n",
       "<style scoped>\n",
       "    .dataframe tbody tr th:only-of-type {\n",
       "        vertical-align: middle;\n",
       "    }\n",
       "\n",
       "    .dataframe tbody tr th {\n",
       "        vertical-align: top;\n",
       "    }\n",
       "\n",
       "    .dataframe thead th {\n",
       "        text-align: right;\n",
       "    }\n",
       "</style>\n",
       "<table border=\"1\" class=\"dataframe\">\n",
       "  <thead>\n",
       "    <tr style=\"text-align: right;\">\n",
       "      <th></th>\n",
       "      <th>Zipcode</th>\n",
       "      <th>relative_score</th>\n",
       "    </tr>\n",
       "  </thead>\n",
       "  <tbody>\n",
       "    <tr>\n",
       "      <th>36</th>\n",
       "      <td>60620</td>\n",
       "      <td>1.000000</td>\n",
       "    </tr>\n",
       "    <tr>\n",
       "      <th>52</th>\n",
       "      <td>60638</td>\n",
       "      <td>0.821849</td>\n",
       "    </tr>\n",
       "    <tr>\n",
       "      <th>64</th>\n",
       "      <td>60652</td>\n",
       "      <td>0.813495</td>\n",
       "    </tr>\n",
       "    <tr>\n",
       "      <th>45</th>\n",
       "      <td>60630</td>\n",
       "      <td>0.806389</td>\n",
       "    </tr>\n",
       "    <tr>\n",
       "      <th>43</th>\n",
       "      <td>60628</td>\n",
       "      <td>0.761454</td>\n",
       "    </tr>\n",
       "    <tr>\n",
       "      <th>...</th>\n",
       "      <td>...</td>\n",
       "      <td>...</td>\n",
       "    </tr>\n",
       "    <tr>\n",
       "      <th>26</th>\n",
       "      <td>60610</td>\n",
       "      <td>0.388579</td>\n",
       "    </tr>\n",
       "    <tr>\n",
       "      <th>41</th>\n",
       "      <td>60625</td>\n",
       "      <td>0.371034</td>\n",
       "    </tr>\n",
       "    <tr>\n",
       "      <th>61</th>\n",
       "      <td>60647</td>\n",
       "      <td>0.276145</td>\n",
       "    </tr>\n",
       "    <tr>\n",
       "      <th>34</th>\n",
       "      <td>60618</td>\n",
       "      <td>0.167782</td>\n",
       "    </tr>\n",
       "    <tr>\n",
       "      <th>23</th>\n",
       "      <td>60607</td>\n",
       "      <td>0.000000</td>\n",
       "    </tr>\n",
       "  </tbody>\n",
       "</table>\n",
       "<p>68 rows × 2 columns</p>\n",
       "</div>"
      ],
      "text/plain": [
       "    Zipcode  relative_score\n",
       "36    60620        1.000000\n",
       "52    60638        0.821849\n",
       "64    60652        0.813495\n",
       "45    60630        0.806389\n",
       "43    60628        0.761454\n",
       "..      ...             ...\n",
       "26    60610        0.388579\n",
       "41    60625        0.371034\n",
       "61    60647        0.276145\n",
       "34    60618        0.167782\n",
       "23    60607        0.000000\n",
       "\n",
       "[68 rows x 2 columns]"
      ]
     },
     "execution_count": 22,
     "metadata": {},
     "output_type": "execute_result"
    }
   ],
   "source": [
    "res['Chicago']"
   ]
  },
  {
   "cell_type": "code",
   "execution_count": 23,
   "metadata": {},
   "outputs": [
    {
     "data": {
      "text/html": [
       "<div>\n",
       "<style scoped>\n",
       "    .dataframe tbody tr th:only-of-type {\n",
       "        vertical-align: middle;\n",
       "    }\n",
       "\n",
       "    .dataframe tbody tr th {\n",
       "        vertical-align: top;\n",
       "    }\n",
       "\n",
       "    .dataframe thead th {\n",
       "        text-align: right;\n",
       "    }\n",
       "</style>\n",
       "<table border=\"1\" class=\"dataframe\">\n",
       "  <thead>\n",
       "    <tr style=\"text-align: right;\">\n",
       "      <th></th>\n",
       "      <th>Zipcode</th>\n",
       "      <th>relative_score</th>\n",
       "    </tr>\n",
       "  </thead>\n",
       "  <tbody>\n",
       "    <tr>\n",
       "      <th>96</th>\n",
       "      <td>80219</td>\n",
       "      <td>0.858921</td>\n",
       "    </tr>\n",
       "    <tr>\n",
       "      <th>97</th>\n",
       "      <td>80220</td>\n",
       "      <td>0.833728</td>\n",
       "    </tr>\n",
       "    <tr>\n",
       "      <th>85</th>\n",
       "      <td>80204</td>\n",
       "      <td>0.810872</td>\n",
       "    </tr>\n",
       "    <tr>\n",
       "      <th>108</th>\n",
       "      <td>80237</td>\n",
       "      <td>0.788803</td>\n",
       "    </tr>\n",
       "    <tr>\n",
       "      <th>91</th>\n",
       "      <td>80211</td>\n",
       "      <td>0.764767</td>\n",
       "    </tr>\n",
       "    <tr>\n",
       "      <th>86</th>\n",
       "      <td>80205</td>\n",
       "      <td>0.764355</td>\n",
       "    </tr>\n",
       "    <tr>\n",
       "      <th>99</th>\n",
       "      <td>80222</td>\n",
       "      <td>0.745469</td>\n",
       "    </tr>\n",
       "    <tr>\n",
       "      <th>89</th>\n",
       "      <td>80209</td>\n",
       "      <td>0.734980</td>\n",
       "    </tr>\n",
       "    <tr>\n",
       "      <th>88</th>\n",
       "      <td>80207</td>\n",
       "      <td>0.732177</td>\n",
       "    </tr>\n",
       "    <tr>\n",
       "      <th>113</th>\n",
       "      <td>80249</td>\n",
       "      <td>0.724968</td>\n",
       "    </tr>\n",
       "    <tr>\n",
       "      <th>92</th>\n",
       "      <td>80212</td>\n",
       "      <td>0.718593</td>\n",
       "    </tr>\n",
       "    <tr>\n",
       "      <th>100</th>\n",
       "      <td>80223</td>\n",
       "      <td>0.708848</td>\n",
       "    </tr>\n",
       "    <tr>\n",
       "      <th>83</th>\n",
       "      <td>80202</td>\n",
       "      <td>0.691338</td>\n",
       "    </tr>\n",
       "    <tr>\n",
       "      <th>90</th>\n",
       "      <td>80210</td>\n",
       "      <td>0.690646</td>\n",
       "    </tr>\n",
       "    <tr>\n",
       "      <th>111</th>\n",
       "      <td>80246</td>\n",
       "      <td>0.686291</td>\n",
       "    </tr>\n",
       "    <tr>\n",
       "      <th>84</th>\n",
       "      <td>80203</td>\n",
       "      <td>0.675615</td>\n",
       "    </tr>\n",
       "    <tr>\n",
       "      <th>94</th>\n",
       "      <td>80216</td>\n",
       "      <td>0.671010</td>\n",
       "    </tr>\n",
       "    <tr>\n",
       "      <th>101</th>\n",
       "      <td>80224</td>\n",
       "      <td>0.664131</td>\n",
       "    </tr>\n",
       "    <tr>\n",
       "      <th>105</th>\n",
       "      <td>80231</td>\n",
       "      <td>0.655099</td>\n",
       "    </tr>\n",
       "    <tr>\n",
       "      <th>104</th>\n",
       "      <td>80230</td>\n",
       "      <td>0.648989</td>\n",
       "    </tr>\n",
       "    <tr>\n",
       "      <th>98</th>\n",
       "      <td>80221</td>\n",
       "      <td>0.632868</td>\n",
       "    </tr>\n",
       "    <tr>\n",
       "      <th>82</th>\n",
       "      <td>80123</td>\n",
       "      <td>0.622947</td>\n",
       "    </tr>\n",
       "    <tr>\n",
       "      <th>110</th>\n",
       "      <td>80239</td>\n",
       "      <td>0.617065</td>\n",
       "    </tr>\n",
       "    <tr>\n",
       "      <th>87</th>\n",
       "      <td>80206</td>\n",
       "      <td>0.601940</td>\n",
       "    </tr>\n",
       "    <tr>\n",
       "      <th>95</th>\n",
       "      <td>80218</td>\n",
       "      <td>0.596255</td>\n",
       "    </tr>\n",
       "    <tr>\n",
       "      <th>112</th>\n",
       "      <td>80247</td>\n",
       "      <td>0.577187</td>\n",
       "    </tr>\n",
       "    <tr>\n",
       "      <th>80</th>\n",
       "      <td>80014</td>\n",
       "      <td>0.575220</td>\n",
       "    </tr>\n",
       "    <tr>\n",
       "      <th>103</th>\n",
       "      <td>80227</td>\n",
       "      <td>0.574386</td>\n",
       "    </tr>\n",
       "    <tr>\n",
       "      <th>109</th>\n",
       "      <td>80238</td>\n",
       "      <td>0.569143</td>\n",
       "    </tr>\n",
       "    <tr>\n",
       "      <th>79</th>\n",
       "      <td>80012</td>\n",
       "      <td>0.532404</td>\n",
       "    </tr>\n",
       "    <tr>\n",
       "      <th>93</th>\n",
       "      <td>80214</td>\n",
       "      <td>0.528116</td>\n",
       "    </tr>\n",
       "    <tr>\n",
       "      <th>107</th>\n",
       "      <td>80236</td>\n",
       "      <td>0.514943</td>\n",
       "    </tr>\n",
       "    <tr>\n",
       "      <th>106</th>\n",
       "      <td>80232</td>\n",
       "      <td>0.489483</td>\n",
       "    </tr>\n",
       "    <tr>\n",
       "      <th>102</th>\n",
       "      <td>80226</td>\n",
       "      <td>0.467279</td>\n",
       "    </tr>\n",
       "    <tr>\n",
       "      <th>81</th>\n",
       "      <td>80111</td>\n",
       "      <td>0.458307</td>\n",
       "    </tr>\n",
       "    <tr>\n",
       "      <th>78</th>\n",
       "      <td>80011</td>\n",
       "      <td>0.453978</td>\n",
       "    </tr>\n",
       "    <tr>\n",
       "      <th>114</th>\n",
       "      <td>80293</td>\n",
       "      <td>NaN</td>\n",
       "    </tr>\n",
       "  </tbody>\n",
       "</table>\n",
       "</div>"
      ],
      "text/plain": [
       "     Zipcode  relative_score\n",
       "96     80219        0.858921\n",
       "97     80220        0.833728\n",
       "85     80204        0.810872\n",
       "108    80237        0.788803\n",
       "91     80211        0.764767\n",
       "86     80205        0.764355\n",
       "99     80222        0.745469\n",
       "89     80209        0.734980\n",
       "88     80207        0.732177\n",
       "113    80249        0.724968\n",
       "92     80212        0.718593\n",
       "100    80223        0.708848\n",
       "83     80202        0.691338\n",
       "90     80210        0.690646\n",
       "111    80246        0.686291\n",
       "84     80203        0.675615\n",
       "94     80216        0.671010\n",
       "101    80224        0.664131\n",
       "105    80231        0.655099\n",
       "104    80230        0.648989\n",
       "98     80221        0.632868\n",
       "82     80123        0.622947\n",
       "110    80239        0.617065\n",
       "87     80206        0.601940\n",
       "95     80218        0.596255\n",
       "112    80247        0.577187\n",
       "80     80014        0.575220\n",
       "103    80227        0.574386\n",
       "109    80238        0.569143\n",
       "79     80012        0.532404\n",
       "93     80214        0.528116\n",
       "107    80236        0.514943\n",
       "106    80232        0.489483\n",
       "102    80226        0.467279\n",
       "81     80111        0.458307\n",
       "78     80011        0.453978\n",
       "114    80293             NaN"
      ]
     },
     "execution_count": 23,
     "metadata": {},
     "output_type": "execute_result"
    }
   ],
   "source": [
    "res['Denver']"
   ]
  },
  {
   "cell_type": "code",
   "execution_count": 24,
   "metadata": {},
   "outputs": [
    {
     "data": {
      "text/html": [
       "<div>\n",
       "<style scoped>\n",
       "    .dataframe tbody tr th:only-of-type {\n",
       "        vertical-align: middle;\n",
       "    }\n",
       "\n",
       "    .dataframe tbody tr th {\n",
       "        vertical-align: top;\n",
       "    }\n",
       "\n",
       "    .dataframe thead th {\n",
       "        text-align: right;\n",
       "    }\n",
       "</style>\n",
       "<table border=\"1\" class=\"dataframe\">\n",
       "  <thead>\n",
       "    <tr style=\"text-align: right;\">\n",
       "      <th></th>\n",
       "      <th>Zipcode</th>\n",
       "      <th>relative_score</th>\n",
       "    </tr>\n",
       "  </thead>\n",
       "  <tbody>\n",
       "    <tr>\n",
       "      <th>1</th>\n",
       "      <td>50310</td>\n",
       "      <td>0.629437</td>\n",
       "    </tr>\n",
       "    <tr>\n",
       "      <th>6</th>\n",
       "      <td>50315</td>\n",
       "      <td>0.595583</td>\n",
       "    </tr>\n",
       "    <tr>\n",
       "      <th>7</th>\n",
       "      <td>50317</td>\n",
       "      <td>0.589729</td>\n",
       "    </tr>\n",
       "    <tr>\n",
       "      <th>3</th>\n",
       "      <td>50312</td>\n",
       "      <td>0.585946</td>\n",
       "    </tr>\n",
       "    <tr>\n",
       "      <th>9</th>\n",
       "      <td>50320</td>\n",
       "      <td>0.582509</td>\n",
       "    </tr>\n",
       "    <tr>\n",
       "      <th>4</th>\n",
       "      <td>50313</td>\n",
       "      <td>0.555581</td>\n",
       "    </tr>\n",
       "    <tr>\n",
       "      <th>5</th>\n",
       "      <td>50314</td>\n",
       "      <td>0.529932</td>\n",
       "    </tr>\n",
       "    <tr>\n",
       "      <th>2</th>\n",
       "      <td>50311</td>\n",
       "      <td>0.527676</td>\n",
       "    </tr>\n",
       "    <tr>\n",
       "      <th>0</th>\n",
       "      <td>50309</td>\n",
       "      <td>0.366391</td>\n",
       "    </tr>\n",
       "    <tr>\n",
       "      <th>8</th>\n",
       "      <td>50319</td>\n",
       "      <td>NaN</td>\n",
       "    </tr>\n",
       "  </tbody>\n",
       "</table>\n",
       "</div>"
      ],
      "text/plain": [
       "   Zipcode  relative_score\n",
       "1    50310        0.629437\n",
       "6    50315        0.595583\n",
       "7    50317        0.589729\n",
       "3    50312        0.585946\n",
       "9    50320        0.582509\n",
       "4    50313        0.555581\n",
       "5    50314        0.529932\n",
       "2    50311        0.527676\n",
       "0    50309        0.366391\n",
       "8    50319             NaN"
      ]
     },
     "execution_count": 24,
     "metadata": {},
     "output_type": "execute_result"
    }
   ],
   "source": [
    "res['Des Moines']"
   ]
  },
  {
   "cell_type": "markdown",
   "metadata": {},
   "source": [
    "# Publishing"
   ]
  },
  {
   "cell_type": "code",
   "execution_count": null,
   "metadata": {},
   "outputs": [],
   "source": [
    "import dataframe_image as dfi"
   ]
  },
  {
   "cell_type": "code",
   "execution_count": null,
   "metadata": {},
   "outputs": [],
   "source": [
    "for city in cities:\n",
    "    dfi.export(res[city], f'./data/export/{city}.png')"
   ]
  },
  {
   "cell_type": "code",
   "execution_count": null,
   "metadata": {},
   "outputs": [],
   "source": [
    "print(res['Chicago'].to_latex(index=False, multirow=True))"
   ]
  },
  {
   "cell_type": "code",
   "execution_count": null,
   "metadata": {},
   "outputs": [],
   "source": []
  }
 ],
 "metadata": {
  "kernelspec": {
   "display_name": "Python 3 (ipykernel)",
   "language": "python",
   "name": "python3"
  },
  "language_info": {
   "codemirror_mode": {
    "name": "ipython",
    "version": 3
   },
   "file_extension": ".py",
   "mimetype": "text/x-python",
   "name": "python",
   "nbconvert_exporter": "python",
   "pygments_lexer": "ipython3",
   "version": "3.8.13"
  },
  "vscode": {
   "interpreter": {
    "hash": "f2157de08526611c4e07720e2583a452ac8c3f4b67970171db5ce23dd37d2319"
   }
  }
 },
 "nbformat": 4,
 "nbformat_minor": 2
}
