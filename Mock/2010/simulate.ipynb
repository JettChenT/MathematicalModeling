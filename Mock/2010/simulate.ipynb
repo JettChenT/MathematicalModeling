{
 "cells": [
  {
   "cell_type": "code",
   "execution_count": 1,
   "metadata": {},
   "outputs": [],
   "source": [
    "import pandas as pd\n",
    "import numpy as np\n",
    "import seaborn as sns"
   ]
  },
  {
   "cell_type": "code",
   "execution_count": 11,
   "metadata": {},
   "outputs": [],
   "source": [
    "cities = ['Chicago', 'Denver', 'Des Moines']"
   ]
  },
  {
   "cell_type": "code",
   "execution_count": 2,
   "metadata": {},
   "outputs": [],
   "source": [
    "data = pd.read_csv('./data/processed/main.csv')\n",
    "data_norm = pd.read_csv('./data/processed/main_norm.csv')"
   ]
  },
  {
   "cell_type": "code",
   "execution_count": 3,
   "metadata": {},
   "outputs": [
    {
     "data": {
      "text/html": [
       "<div>\n",
       "<style scoped>\n",
       "    .dataframe tbody tr th:only-of-type {\n",
       "        vertical-align: middle;\n",
       "    }\n",
       "\n",
       "    .dataframe tbody tr th {\n",
       "        vertical-align: top;\n",
       "    }\n",
       "\n",
       "    .dataframe thead th {\n",
       "        text-align: right;\n",
       "    }\n",
       "</style>\n",
       "<table border=\"1\" class=\"dataframe\">\n",
       "  <thead>\n",
       "    <tr style=\"text-align: right;\">\n",
       "      <th></th>\n",
       "      <th>Zipcode</th>\n",
       "      <th>public_transport</th>\n",
       "      <th>shop</th>\n",
       "      <th>schools</th>\n",
       "      <th>bike_rental</th>\n",
       "      <th>parking</th>\n",
       "      <th>population_density</th>\n",
       "      <th>city</th>\n",
       "    </tr>\n",
       "  </thead>\n",
       "  <tbody>\n",
       "    <tr>\n",
       "      <th>0</th>\n",
       "      <td>50309</td>\n",
       "      <td>196</td>\n",
       "      <td>100</td>\n",
       "      <td>0</td>\n",
       "      <td>24</td>\n",
       "      <td>2</td>\n",
       "      <td>1914.0</td>\n",
       "      <td>Des Moines</td>\n",
       "    </tr>\n",
       "    <tr>\n",
       "      <th>1</th>\n",
       "      <td>50310</td>\n",
       "      <td>6</td>\n",
       "      <td>86</td>\n",
       "      <td>0</td>\n",
       "      <td>0</td>\n",
       "      <td>0</td>\n",
       "      <td>3752.0</td>\n",
       "      <td>Des Moines</td>\n",
       "    </tr>\n",
       "    <tr>\n",
       "      <th>2</th>\n",
       "      <td>50311</td>\n",
       "      <td>46</td>\n",
       "      <td>34</td>\n",
       "      <td>0</td>\n",
       "      <td>8</td>\n",
       "      <td>0</td>\n",
       "      <td>6011.0</td>\n",
       "      <td>Des Moines</td>\n",
       "    </tr>\n",
       "    <tr>\n",
       "      <th>3</th>\n",
       "      <td>50312</td>\n",
       "      <td>52</td>\n",
       "      <td>44</td>\n",
       "      <td>0</td>\n",
       "      <td>2</td>\n",
       "      <td>2</td>\n",
       "      <td>2701.0</td>\n",
       "      <td>Des Moines</td>\n",
       "    </tr>\n",
       "    <tr>\n",
       "      <th>4</th>\n",
       "      <td>50313</td>\n",
       "      <td>46</td>\n",
       "      <td>10</td>\n",
       "      <td>0</td>\n",
       "      <td>0</td>\n",
       "      <td>0</td>\n",
       "      <td>963.0</td>\n",
       "      <td>Des Moines</td>\n",
       "    </tr>\n",
       "  </tbody>\n",
       "</table>\n",
       "</div>"
      ],
      "text/plain": [
       "   Zipcode  public_transport  shop  schools  bike_rental  parking  \\\n",
       "0    50309               196   100        0           24        2   \n",
       "1    50310                 6    86        0            0        0   \n",
       "2    50311                46    34        0            8        0   \n",
       "3    50312                52    44        0            2        2   \n",
       "4    50313                46    10        0            0        0   \n",
       "\n",
       "   population_density        city  \n",
       "0              1914.0  Des Moines  \n",
       "1              3752.0  Des Moines  \n",
       "2              6011.0  Des Moines  \n",
       "3              2701.0  Des Moines  \n",
       "4               963.0  Des Moines  "
      ]
     },
     "execution_count": 3,
     "metadata": {},
     "output_type": "execute_result"
    }
   ],
   "source": [
    "data.head()"
   ]
  },
  {
   "cell_type": "code",
   "execution_count": 25,
   "metadata": {},
   "outputs": [
    {
     "data": {
      "text/plain": [
       "city\n",
       "Chicago       1630\n",
       "Denver          78\n",
       "Des Moines      42\n",
       "Name: bike_rental, dtype: int64"
      ]
     },
     "execution_count": 25,
     "metadata": {},
     "output_type": "execute_result"
    }
   ],
   "source": [
    "count = data.groupby('city').sum()['bike_rental']\n",
    "count"
   ]
  },
  {
   "cell_type": "code",
   "execution_count": 26,
   "metadata": {},
   "outputs": [],
   "source": [
    "relative_score_sum = data_norm.groupby('city').sum()['relative_score']\n",
    "data_norm['relative_score_norm'] = data_norm.apply(lambda x: x['relative_score'] / relative_score_sum[x['city']], axis=1)"
   ]
  },
  {
   "cell_type": "code",
   "execution_count": 27,
   "metadata": {},
   "outputs": [
    {
     "data": {
      "text/plain": [
       "city\n",
       "Chicago       1.0\n",
       "Denver        1.0\n",
       "Des Moines    1.0\n",
       "Name: relative_score_norm, dtype: float64"
      ]
     },
     "execution_count": 27,
     "metadata": {},
     "output_type": "execute_result"
    }
   ],
   "source": [
    "data_norm.groupby('city').sum()['relative_score_norm']"
   ]
  },
  {
   "cell_type": "code",
   "execution_count": 29,
   "metadata": {},
   "outputs": [
    {
     "data": {
      "text/plain": [
       "city\n",
       "Chicago       815.0\n",
       "Denver         39.0\n",
       "Des Moines     21.0\n",
       "Name: bike_rental, dtype: float64"
      ]
     },
     "execution_count": 29,
     "metadata": {},
     "output_type": "execute_result"
    }
   ],
   "source": [
    "count*1.5 - count"
   ]
  },
  {
   "cell_type": "code",
   "execution_count": 42,
   "metadata": {},
   "outputs": [],
   "source": [
    "data_norm.fillna(0, inplace=True)"
   ]
  },
  {
   "cell_type": "code",
   "execution_count": 43,
   "metadata": {},
   "outputs": [],
   "source": [
    "YEARS = 5\n",
    "RATE = 1.3\n",
    "year_plan = dict()\n",
    "\n",
    "for year in range(YEARS):\n",
    "    dcity_stations= count*(RATE**(year+1)) - count*(RATE**year)\n",
    "    dzipcode_stations = data_norm.apply(lambda x: round(x['relative_score_norm'] * dcity_stations[x['city']]), axis=1)\n",
    "    year_plan[year] = pd.DataFrame(\n",
    "        {\n",
    "            'Zipcode':data_norm['Zipcode'], \n",
    "            'city':data_norm['city'], \n",
    "            'new_stations':dzipcode_stations,\n",
    "            'relative_score' : data_norm['relative_score']\n",
    "        }\n",
    "    )"
   ]
  },
  {
   "cell_type": "code",
   "execution_count": 45,
   "metadata": {},
   "outputs": [
    {
     "data": {
      "text/html": [
       "<div>\n",
       "<style scoped>\n",
       "    .dataframe tbody tr th:only-of-type {\n",
       "        vertical-align: middle;\n",
       "    }\n",
       "\n",
       "    .dataframe tbody tr th {\n",
       "        vertical-align: top;\n",
       "    }\n",
       "\n",
       "    .dataframe thead th {\n",
       "        text-align: right;\n",
       "    }\n",
       "</style>\n",
       "<table border=\"1\" class=\"dataframe\">\n",
       "  <thead>\n",
       "    <tr style=\"text-align: right;\">\n",
       "      <th></th>\n",
       "      <th>Zipcode</th>\n",
       "      <th>city</th>\n",
       "      <th>new_stations</th>\n",
       "      <th>relative_score</th>\n",
       "    </tr>\n",
       "  </thead>\n",
       "  <tbody>\n",
       "    <tr>\n",
       "      <th>39</th>\n",
       "      <td>60623</td>\n",
       "      <td>Chicago</td>\n",
       "      <td>11</td>\n",
       "      <td>0.661072</td>\n",
       "    </tr>\n",
       "    <tr>\n",
       "      <th>85</th>\n",
       "      <td>80204</td>\n",
       "      <td>Denver</td>\n",
       "      <td>1</td>\n",
       "      <td>0.810872</td>\n",
       "    </tr>\n",
       "    <tr>\n",
       "      <th>86</th>\n",
       "      <td>80205</td>\n",
       "      <td>Denver</td>\n",
       "      <td>1</td>\n",
       "      <td>0.764355</td>\n",
       "    </tr>\n",
       "    <tr>\n",
       "      <th>59</th>\n",
       "      <td>60645</td>\n",
       "      <td>Chicago</td>\n",
       "      <td>11</td>\n",
       "      <td>0.634827</td>\n",
       "    </tr>\n",
       "    <tr>\n",
       "      <th>79</th>\n",
       "      <td>80012</td>\n",
       "      <td>Denver</td>\n",
       "      <td>1</td>\n",
       "      <td>0.532404</td>\n",
       "    </tr>\n",
       "  </tbody>\n",
       "</table>\n",
       "</div>"
      ],
      "text/plain": [
       "    Zipcode     city  new_stations  relative_score\n",
       "39    60623  Chicago            11        0.661072\n",
       "85    80204   Denver             1        0.810872\n",
       "86    80205   Denver             1        0.764355\n",
       "59    60645  Chicago            11        0.634827\n",
       "79    80012   Denver             1        0.532404"
      ]
     },
     "execution_count": 45,
     "metadata": {},
     "output_type": "execute_result"
    }
   ],
   "source": [
    "year_plan[1].sample(5)"
   ]
  },
  {
   "cell_type": "code",
   "execution_count": 50,
   "metadata": {},
   "outputs": [],
   "source": [
    "for y in range(5):\n",
    "    year_plan[y][['city', 'Zipcode', 'new_stations']].to_csv(f'./data/plan/year_{y+1}.csv', index=False)"
   ]
  }
 ],
 "metadata": {
  "kernelspec": {
   "display_name": "Python 3.8.13 ('himcm')",
   "language": "python",
   "name": "python3"
  },
  "language_info": {
   "codemirror_mode": {
    "name": "ipython",
    "version": 3
   },
   "file_extension": ".py",
   "mimetype": "text/x-python",
   "name": "python",
   "nbconvert_exporter": "python",
   "pygments_lexer": "ipython3",
   "version": "3.8.13"
  },
  "orig_nbformat": 4,
  "vscode": {
   "interpreter": {
    "hash": "f2157de08526611c4e07720e2583a452ac8c3f4b67970171db5ce23dd37d2319"
   }
  }
 },
 "nbformat": 4,
 "nbformat_minor": 2
}
