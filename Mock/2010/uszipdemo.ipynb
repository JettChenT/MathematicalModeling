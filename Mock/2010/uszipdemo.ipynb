{
 "cells": [
  {
   "cell_type": "code",
   "execution_count": 1,
   "metadata": {},
   "outputs": [
    {
     "name": "stdout",
     "output_type": "stream",
     "text": [
      "Looking in indexes: https://pypi.tuna.tsinghua.edu.cn/simple\n",
      "Requirement already satisfied: uszipcode in /Users/jettchen/anaconda3/envs/himcm/lib/python3.8/site-packages (1.0.1)\n",
      "Requirement already satisfied: attrs in /Users/jettchen/anaconda3/envs/himcm/lib/python3.8/site-packages (from uszipcode) (21.4.0)\n",
      "Requirement already satisfied: fuzzywuzzy in /Users/jettchen/anaconda3/envs/himcm/lib/python3.8/site-packages (from uszipcode) (0.18.0)\n",
      "Requirement already satisfied: requests in /Users/jettchen/anaconda3/envs/himcm/lib/python3.8/site-packages (from uszipcode) (2.28.1)\n",
      "Requirement already satisfied: sqlalchemy-mate>=1.4.28.3 in /Users/jettchen/anaconda3/envs/himcm/lib/python3.8/site-packages (from uszipcode) (1.4.28.3)\n",
      "Requirement already satisfied: atomicwrites in /Users/jettchen/anaconda3/envs/himcm/lib/python3.8/site-packages (from uszipcode) (1.4.1)\n",
      "Requirement already satisfied: haversine>=2.5.0 in /Users/jettchen/anaconda3/envs/himcm/lib/python3.8/site-packages (from uszipcode) (2.6.0)\n",
      "Requirement already satisfied: pathlib-mate in /Users/jettchen/anaconda3/envs/himcm/lib/python3.8/site-packages (from uszipcode) (1.0.3)\n",
      "Requirement already satisfied: SQLAlchemy>=1.4.0 in /Users/jettchen/anaconda3/envs/himcm/lib/python3.8/site-packages (from uszipcode) (1.4.39)\n",
      "Requirement already satisfied: greenlet!=0.4.17 in /Users/jettchen/.local/lib/python3.8/site-packages (from SQLAlchemy>=1.4.0->uszipcode) (1.1.2)\n",
      "Requirement already satisfied: prettytable in /Users/jettchen/anaconda3/envs/himcm/lib/python3.8/site-packages (from sqlalchemy-mate>=1.4.28.3->uszipcode) (3.3.0)\n",
      "Requirement already satisfied: autopep8 in /Users/jettchen/anaconda3/envs/himcm/lib/python3.8/site-packages (from pathlib-mate->uszipcode) (1.6.0)\n",
      "Requirement already satisfied: six in /Users/jettchen/anaconda3/envs/himcm/lib/python3.8/site-packages (from pathlib-mate->uszipcode) (1.16.0)\n",
      "Requirement already satisfied: urllib3<1.27,>=1.21.1 in /Users/jettchen/anaconda3/envs/himcm/lib/python3.8/site-packages (from requests->uszipcode) (1.26.10)\n",
      "Requirement already satisfied: certifi>=2017.4.17 in /Users/jettchen/anaconda3/envs/himcm/lib/python3.8/site-packages (from requests->uszipcode) (2022.6.15)\n",
      "Requirement already satisfied: charset-normalizer<3,>=2 in /Users/jettchen/anaconda3/envs/himcm/lib/python3.8/site-packages (from requests->uszipcode) (2.1.0)\n",
      "Requirement already satisfied: idna<4,>=2.5 in /Users/jettchen/anaconda3/envs/himcm/lib/python3.8/site-packages (from requests->uszipcode) (3.3)\n",
      "Requirement already satisfied: toml in /Users/jettchen/anaconda3/envs/himcm/lib/python3.8/site-packages (from autopep8->pathlib-mate->uszipcode) (0.10.2)\n",
      "Requirement already satisfied: pycodestyle>=2.8.0 in /Users/jettchen/anaconda3/envs/himcm/lib/python3.8/site-packages (from autopep8->pathlib-mate->uszipcode) (2.8.0)\n",
      "Requirement already satisfied: wcwidth in /Users/jettchen/anaconda3/envs/himcm/lib/python3.8/site-packages (from prettytable->sqlalchemy-mate>=1.4.28.3->uszipcode) (0.2.5)\n"
     ]
    }
   ],
   "source": [
    "!pip install uszipcode"
   ]
  },
  {
   "cell_type": "code",
   "execution_count": 2,
   "metadata": {},
   "outputs": [],
   "source": [
    "from uszipcode import SearchEngine\n",
    "\n",
    "search = SearchEngine()"
   ]
  },
  {
   "cell_type": "code",
   "execution_count": 11,
   "metadata": {},
   "outputs": [
    {
     "data": {
      "text/plain": [
       "1466.0"
      ]
     },
     "execution_count": 11,
     "metadata": {},
     "output_type": "execute_result"
    }
   ],
   "source": [
    "result = search.by_zipcode(\"1001\")\n",
    "result.population_density"
   ]
  },
  {
   "cell_type": "code",
   "execution_count": 5,
   "metadata": {},
   "outputs": [],
   "source": [
    "import pandas as pd\n",
    "\n",
    "df = pd.read_csv('./data/bike_rental.csv')"
   ]
  },
  {
   "cell_type": "code",
   "execution_count": 6,
   "metadata": {},
   "outputs": [
    {
     "data": {
      "text/html": [
       "<div>\n",
       "<style scoped>\n",
       "    .dataframe tbody tr th:only-of-type {\n",
       "        vertical-align: middle;\n",
       "    }\n",
       "\n",
       "    .dataframe tbody tr th {\n",
       "        vertical-align: top;\n",
       "    }\n",
       "\n",
       "    .dataframe thead th {\n",
       "        text-align: right;\n",
       "    }\n",
       "</style>\n",
       "<table border=\"1\" class=\"dataframe\">\n",
       "  <thead>\n",
       "    <tr style=\"text-align: right;\">\n",
       "      <th></th>\n",
       "      <th>Unnamed: 0</th>\n",
       "      <th>City</th>\n",
       "      <th>Lat</th>\n",
       "      <th>Lon</th>\n",
       "      <th>Zipcode</th>\n",
       "    </tr>\n",
       "  </thead>\n",
       "  <tbody>\n",
       "    <tr>\n",
       "      <th>0</th>\n",
       "      <td>0</td>\n",
       "      <td>Chicago</td>\n",
       "      <td>41.892570</td>\n",
       "      <td>-87.614492</td>\n",
       "      <td>60611</td>\n",
       "    </tr>\n",
       "    <tr>\n",
       "      <th>1</th>\n",
       "      <td>1</td>\n",
       "      <td>Chicago</td>\n",
       "      <td>41.877761</td>\n",
       "      <td>-87.654822</td>\n",
       "      <td>60607</td>\n",
       "    </tr>\n",
       "    <tr>\n",
       "      <th>2</th>\n",
       "      <td>2</td>\n",
       "      <td>Chicago</td>\n",
       "      <td>41.899624</td>\n",
       "      <td>-87.668393</td>\n",
       "      <td>60622</td>\n",
       "    </tr>\n",
       "    <tr>\n",
       "      <th>3</th>\n",
       "      <td>3</td>\n",
       "      <td>Chicago</td>\n",
       "      <td>41.879248</td>\n",
       "      <td>-87.640007</td>\n",
       "      <td>60606</td>\n",
       "    </tr>\n",
       "    <tr>\n",
       "      <th>4</th>\n",
       "      <td>4</td>\n",
       "      <td>Chicago</td>\n",
       "      <td>41.878391</td>\n",
       "      <td>-87.641006</td>\n",
       "      <td>60606</td>\n",
       "    </tr>\n",
       "  </tbody>\n",
       "</table>\n",
       "</div>"
      ],
      "text/plain": [
       "   Unnamed: 0     City        Lat        Lon  Zipcode\n",
       "0           0  Chicago  41.892570 -87.614492    60611\n",
       "1           1  Chicago  41.877761 -87.654822    60607\n",
       "2           2  Chicago  41.899624 -87.668393    60622\n",
       "3           3  Chicago  41.879248 -87.640007    60606\n",
       "4           4  Chicago  41.878391 -87.641006    60606"
      ]
     },
     "execution_count": 6,
     "metadata": {},
     "output_type": "execute_result"
    }
   ],
   "source": [
    "df.head()"
   ]
  },
  {
   "cell_type": "code",
   "execution_count": 9,
   "metadata": {},
   "outputs": [
    {
     "data": {
      "text/html": [
       "<div>\n",
       "<style scoped>\n",
       "    .dataframe tbody tr th:only-of-type {\n",
       "        vertical-align: middle;\n",
       "    }\n",
       "\n",
       "    .dataframe tbody tr th {\n",
       "        vertical-align: top;\n",
       "    }\n",
       "\n",
       "    .dataframe thead th {\n",
       "        text-align: right;\n",
       "    }\n",
       "</style>\n",
       "<table border=\"1\" class=\"dataframe\">\n",
       "  <thead>\n",
       "    <tr style=\"text-align: right;\">\n",
       "      <th></th>\n",
       "      <th>Unnamed: 0</th>\n",
       "      <th>City</th>\n",
       "      <th>Lat</th>\n",
       "      <th>Lon</th>\n",
       "    </tr>\n",
       "  </thead>\n",
       "  <tbody>\n",
       "    <tr>\n",
       "      <th>count</th>\n",
       "      <td>73.000000</td>\n",
       "      <td>73.000000</td>\n",
       "      <td>73.000000</td>\n",
       "      <td>73.000000</td>\n",
       "    </tr>\n",
       "    <tr>\n",
       "      <th>mean</th>\n",
       "      <td>24.000000</td>\n",
       "      <td>24.000000</td>\n",
       "      <td>24.000000</td>\n",
       "      <td>24.000000</td>\n",
       "    </tr>\n",
       "    <tr>\n",
       "      <th>std</th>\n",
       "      <td>18.260461</td>\n",
       "      <td>18.260461</td>\n",
       "      <td>18.260461</td>\n",
       "      <td>18.260461</td>\n",
       "    </tr>\n",
       "    <tr>\n",
       "      <th>min</th>\n",
       "      <td>2.000000</td>\n",
       "      <td>2.000000</td>\n",
       "      <td>2.000000</td>\n",
       "      <td>2.000000</td>\n",
       "    </tr>\n",
       "    <tr>\n",
       "      <th>25%</th>\n",
       "      <td>8.000000</td>\n",
       "      <td>8.000000</td>\n",
       "      <td>8.000000</td>\n",
       "      <td>8.000000</td>\n",
       "    </tr>\n",
       "    <tr>\n",
       "      <th>50%</th>\n",
       "      <td>20.000000</td>\n",
       "      <td>20.000000</td>\n",
       "      <td>20.000000</td>\n",
       "      <td>20.000000</td>\n",
       "    </tr>\n",
       "    <tr>\n",
       "      <th>75%</th>\n",
       "      <td>36.000000</td>\n",
       "      <td>36.000000</td>\n",
       "      <td>36.000000</td>\n",
       "      <td>36.000000</td>\n",
       "    </tr>\n",
       "    <tr>\n",
       "      <th>max</th>\n",
       "      <td>68.000000</td>\n",
       "      <td>68.000000</td>\n",
       "      <td>68.000000</td>\n",
       "      <td>68.000000</td>\n",
       "    </tr>\n",
       "  </tbody>\n",
       "</table>\n",
       "</div>"
      ],
      "text/plain": [
       "       Unnamed: 0       City        Lat        Lon\n",
       "count   73.000000  73.000000  73.000000  73.000000\n",
       "mean    24.000000  24.000000  24.000000  24.000000\n",
       "std     18.260461  18.260461  18.260461  18.260461\n",
       "min      2.000000   2.000000   2.000000   2.000000\n",
       "25%      8.000000   8.000000   8.000000   8.000000\n",
       "50%     20.000000  20.000000  20.000000  20.000000\n",
       "75%     36.000000  36.000000  36.000000  36.000000\n",
       "max     68.000000  68.000000  68.000000  68.000000"
      ]
     },
     "execution_count": 9,
     "metadata": {},
     "output_type": "execute_result"
    }
   ],
   "source": [
    "df.groupby('Zipcode').count().describe()"
   ]
  },
  {
   "cell_type": "code",
   "execution_count": null,
   "metadata": {},
   "outputs": [],
   "source": []
  }
 ],
 "metadata": {
  "kernelspec": {
   "display_name": "Python 3.8.13 ('himcm')",
   "language": "python",
   "name": "python3"
  },
  "language_info": {
   "codemirror_mode": {
    "name": "ipython",
    "version": 3
   },
   "file_extension": ".py",
   "mimetype": "text/x-python",
   "name": "python",
   "nbconvert_exporter": "python",
   "pygments_lexer": "ipython3",
   "version": "3.8.13"
  },
  "orig_nbformat": 4,
  "vscode": {
   "interpreter": {
    "hash": "f2157de08526611c4e07720e2583a452ac8c3f4b67970171db5ce23dd37d2319"
   }
  }
 },
 "nbformat": 4,
 "nbformat_minor": 2
}
