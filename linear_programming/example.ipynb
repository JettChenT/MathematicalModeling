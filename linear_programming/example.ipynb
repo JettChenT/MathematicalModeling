{
 "cells": [
  {
   "cell_type": "code",
   "execution_count": 7,
   "metadata": {},
   "outputs": [],
   "source": [
    "from ortools.linear_solver import pywraplp\n",
    "solver = pywraplp.Solver('SimpleLinearExample', pywraplp.Solver.GLOP_LINEAR_PROGRAMMING)"
   ]
  },
  {
   "cell_type": "code",
   "execution_count": 8,
   "metadata": {},
   "outputs": [],
   "source": [
    "x1 = solver.NumVar(0.0, 100.0, 'x1')\n",
    "x2 = solver.NumVar(0.0, 100.0, 'x2')\n",
    "x3 = solver.NumVar(0.0, 100.0, 'x3')"
   ]
  },
  {
   "cell_type": "code",
   "execution_count": 9,
   "metadata": {},
   "outputs": [],
   "source": [
    "constraints = [\n",
    "    x1 + x2 + x3 == 7,\n",
    "    2*x1 - 5*x2 + x3 >= 10,\n",
    "    x1 + 3*x2 + x3 <=12,\n",
    "]"
   ]
  },
  {
   "cell_type": "code",
   "execution_count": 10,
   "metadata": {},
   "outputs": [],
   "source": [
    "for constraint in constraints:\n",
    "    solver.Add(constraint)\n",
    "\n",
    "solver.Maximize(2*x1 + 3*x2 - 5*x3)"
   ]
  },
  {
   "cell_type": "code",
   "execution_count": 11,
   "metadata": {},
   "outputs": [
    {
     "name": "stdout",
     "output_type": "stream",
     "text": [
      "Optimal objective value: 14\n",
      "x1 = 6\n",
      "x2 = 0\n",
      "x3 = 0\n"
     ]
    }
   ],
   "source": [
    "status = solver.Solve()\n",
    "if status == solver.OPTIMAL:\n",
    "    print('Optimal objective value: %d' % solver.Objective().Value())\n",
    "    print('x1 = %d' % x1.solution_value())\n",
    "    print('x2 = %d' % x2.solution_value())\n",
    "    print('x3 = %d' % x3.solution_value())\n",
    "else:\n",
    "    print('The problem does not have an optimal solution.')"
   ]
  },
  {
   "cell_type": "code",
   "execution_count": null,
   "metadata": {},
   "outputs": [],
   "source": []
  }
 ],
 "metadata": {
  "kernelspec": {
   "display_name": "Python 3.7.10 ('ml')",
   "language": "python",
   "name": "python3"
  },
  "language_info": {
   "codemirror_mode": {
    "name": "ipython",
    "version": 3
   },
   "file_extension": ".py",
   "mimetype": "text/x-python",
   "name": "python",
   "nbconvert_exporter": "python",
   "pygments_lexer": "ipython3",
   "version": "3.7.10"
  },
  "orig_nbformat": 4,
  "vscode": {
   "interpreter": {
    "hash": "990b04647bd6c0e24a04b79edf17160feefafc70a76aaf3501167e18424c1099"
   }
  }
 },
 "nbformat": 4,
 "nbformat_minor": 2
}
