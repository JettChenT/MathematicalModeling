{
 "cells": [
  {
   "cell_type": "markdown",
   "metadata": {},
   "source": [
    "# The steps of solving a LP problem\n",
    "1. Choose a solver\n",
    "2. declare variables\n",
    "3. declare constraints\n",
    "4. define objective\n",
    "5. optimize!"
   ]
  },
  {
   "cell_type": "code",
   "execution_count": 7,
   "metadata": {},
   "outputs": [],
   "source": [
    "from ortools.linear_solver import pywraplp\n",
    "solver = pywraplp.Solver('Maximize my evil empire', pywraplp.Solver.GLOP_LINEAR_PROGRAMMING)"
   ]
  },
  {
   "cell_type": "code",
   "execution_count": 8,
   "metadata": {},
   "outputs": [],
   "source": [
    "swordsmen = solver.IntVar(0, solver.infinity(), 'swordsman')\n",
    "bowmen = solver.IntVar(0, solver.infinity(), 'bowmen')\n",
    "horsemen = solver.IntVar(0, solver.infinity(), 'horsemen')"
   ]
  },
  {
   "cell_type": "code",
   "execution_count": 9,
   "metadata": {},
   "outputs": [
    {
     "data": {
      "text/plain": [
       "<ortools.linear_solver.pywraplp.Constraint; proxy of <Swig Object of type 'operations_research::MPConstraint *' at 0x7fee2910fba0> >"
      ]
     },
     "execution_count": 9,
     "metadata": {},
     "output_type": "execute_result"
    }
   ],
   "source": [
    "solver.Add(swordsmen*60 + bowmen*80 + horsemen*140 <= 1200) \n",
    "solver.Add(swordsmen*20 + bowmen*10 <= 800)                 \n",
    "solver.Add(bowmen*40 + horsemen*100 <= 600)                "
   ]
  },
  {
   "cell_type": "code",
   "execution_count": 13,
   "metadata": {},
   "outputs": [],
   "source": [
    "solver.Maximize(swordsmen*70 + bowmen*95 + horsemen*230)"
   ]
  },
  {
   "cell_type": "code",
   "execution_count": 14,
   "metadata": {},
   "outputs": [
    {
     "name": "stdout",
     "output_type": "stream",
     "text": [
      "optimal: 1800.0\n",
      "swordsmen: 6.0000000000000036\n",
      "bowmen: 0.0\n",
      "horsemen: 5.999999999999999\n"
     ]
    }
   ],
   "source": [
    "status = solver.Solve()\n",
    "if status == pywraplp.Solver.OPTIMAL:\n",
    "    # print all the values\n",
    "    print(f\"optimal: {solver.Objective().Value()}\")\n",
    "    print(f\"swordsmen: {swordsmen.solution_value()}\")\n",
    "    print(f\"bowmen: {bowmen.solution_value()}\")\n",
    "    print(f\"horsemen: {horsemen.solution_value()}\")\n",
    "else:\n",
    "    print(\"No solution found\")"
   ]
  }
 ],
 "metadata": {
  "kernelspec": {
   "display_name": "Python 3.7.10 ('ml')",
   "language": "python",
   "name": "python3"
  },
  "language_info": {
   "codemirror_mode": {
    "name": "ipython",
    "version": 3
   },
   "file_extension": ".py",
   "mimetype": "text/x-python",
   "name": "python",
   "nbconvert_exporter": "python",
   "pygments_lexer": "ipython3",
   "version": "3.7.10"
  },
  "orig_nbformat": 4,
  "vscode": {
   "interpreter": {
    "hash": "990b04647bd6c0e24a04b79edf17160feefafc70a76aaf3501167e18424c1099"
   }
  }
 },
 "nbformat": 4,
 "nbformat_minor": 2
}
